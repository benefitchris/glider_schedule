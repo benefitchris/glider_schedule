{
 "cells": [
  {
   "cell_type": "code",
   "execution_count": null,
   "id": "a9c9e339",
   "metadata": {},
   "outputs": [],
   "source": [
    "import pandas as pd\n",
    "# pd.options.mode.copy_on_write = False # from Pandas 3 on, this is True as default\n",
    "import seaborn as sns\n",
    "from pathlib import Path\n",
    "#from cycler import cycler\n",
    "\n",
    "from serv.servCore import user_scores, get_schedule_frame\n",
    "from serv.servCore import get_b_e_quad_factor, get_b_e_step_factor, get_b_e_factor\n",
    "from serv.servInterface import load_user_with_function, load_service_from_csv, export_service_to_csv\n",
    "from serv.servTest import get_test_user\n",
    "from serv.config import trans_dict, set_config\n",
    "\n",
    "# ToDo logging\n",
    "\n",
    "#default_cycler = (cycler(color=['r', 'g', 'b', 'y']) + cycler(linestyle=['-', '--', ':', '-.']))\n",
    "sns.set_theme(rc={'figure.figsize':(10,6)})\n",
    "\n",
    "#pd.__version__"
   ]
  },
  {
   "cell_type": "markdown",
   "id": "1adee260",
   "metadata": {},
   "source": [
    "# Definitions\n",
    "\n",
    "1. function.csv is leading document regarding people and service\n",
    "    a. Mitglieder.csv (from www.vereinsflieger.de) is NOT master document"
   ]
  },
  {
   "cell_type": "markdown",
   "id": "00235720",
   "metadata": {},
   "source": [
    "## ToDo\n",
    "\n",
    "1. Introduce logging \\\n",
    "2. Code structure: Review about outsourced functions to core"
   ]
  },
  {
   "cell_type": "code",
   "execution_count": null,
   "id": "8076ecd8",
   "metadata": {},
   "outputs": [],
   "source": [
    "# path variables\n",
    "vac_path = Path(r'vacation/*.*')\n",
    "user_path = Path(r'vf_sources/functions.csv')\n",
    "#serv_path = Path(r'vf_sources/Fluglehrer.csv') # single one\n",
    "serv_paths = [Path(r'vf_sources/' + insert + '.csv') for insert in list(trans_dict.values())] # get list of all function csv lists, export vereinsflieger\n",
    "\n",
    "#users = get_test_user(simple=True) # test user setup\n",
    "users = load_user_with_function(user_path)\n",
    "service_functions = list(users.keys()) # = list(trans_dict.keys())"
   ]
  },
  {
   "cell_type": "markdown",
   "id": "d68f693a",
   "metadata": {},
   "source": [
    "# Schedule"
   ]
  },
  {
   "cell_type": "code",
   "execution_count": null,
   "id": "23e29311",
   "metadata": {},
   "outputs": [],
   "source": [
    "# get schedule frame with dates\n",
    "df_schedule = get_schedule_frame(start_date='2025-03-28', end_date='2025-11-02')\n",
    "\n",
    "# add empty service columns\n",
    "for col in service_functions: # get services from user definition with function\n",
    "    df_schedule[col] = ''\n",
    "\n",
    "#df_schedule\n",
    "#df_schedule.to_excel('vacation.xlsx') # template vacation dates"
   ]
  },
  {
   "cell_type": "code",
   "execution_count": null,
   "id": "ccee513d",
   "metadata": {},
   "outputs": [],
   "source": [
    "# get vacation files (data)\n",
    "vac_files = [vac_file for vac_file in Path(vac_path.parent).glob(vac_path.name)]\n",
    "print('{} vacation files found:'.format(len(vac_files)), *vac_files, sep='\\n')"
   ]
  },
  {
   "cell_type": "code",
   "execution_count": null,
   "id": "8b886a37",
   "metadata": {},
   "outputs": [],
   "source": [
    "#debug\n",
    "#idx=0\n",
    "#vac_files\n",
    "#df_vac = pd.read_csv(vac_files[idx], sep=';', usecols=[0, 2])\n",
    "#df_vac"
   ]
  },
  {
   "cell_type": "code",
   "execution_count": null,
   "id": "86463292",
   "metadata": {},
   "outputs": [],
   "source": [
    "# read vacation data from files\n",
    "for vac_file in vac_files:\n",
    "    df_vac = pd.read_csv(vac_file, sep=';', usecols=[0, 2]) # col must be 'date' and 'name'\n",
    "    df_vac = df_vac.set_index('Date')\n",
    "    \n",
    "    #display(df_vac)\n",
    "    #print(vac_file, df_vac.dtypes) # debug type error: str instead expected float\n",
    "    \n",
    "    df_schedule['Vacation', df_vac.columns[0]] = df_vac # add vacation data as column per name to schedule data frame\n",
    "\n",
    "#df_schedule"
   ]
  },
  {
   "cell_type": "code",
   "execution_count": null,
   "id": "08ea1a1e",
   "metadata": {},
   "outputs": [],
   "source": [
    "#['{} {}'.format(p, list(trans_dict.keys())[i]) for i, p in enumerate(serv_paths)] \n",
    "# read all (predefined) service csv from vereinsflieger and write to list\n",
    "df_services_in = [load_service_from_csv(p, function=list(trans_dict.keys())[i]) for i, p in enumerate(serv_paths)] \n",
    "\n",
    "#df_service_in = load_service_from_csv(serv_path)\n",
    "#df_service_in"
   ]
  },
  {
   "cell_type": "code",
   "execution_count": null,
   "id": "e2adfc3d",
   "metadata": {},
   "outputs": [],
   "source": [
    "# set user data frame\n",
    "user_frames = [pd.DataFrame(data = 0.0, index=users[key], columns=['score']) for key in users]\n",
    "df_user = pd.concat(user_frames, keys=service_functions, names=['Function', 'Name'])\n",
    "\n",
    "for key, value in user_scores.items():\n",
    "    #print(key, value)\n",
    "    df_user[key] = value\n",
    "\n",
    "#df_user"
   ]
  },
  {
   "cell_type": "code",
   "execution_count": null,
   "id": "148e7661",
   "metadata": {},
   "outputs": [],
   "source": [
    "# configuration\n",
    "# test modifications for users to check functions\n",
    "#df_user.loc['Winch'].at['Sand', 'max'] = 5\n",
    "#df_user.loc['Winch'].at['Mas', 'max'] = 8\n",
    "#df_user.loc['Winch'].at['Mas', 'weight'] = 0.8\n",
    "#df_user.loc['Winch'].at['Mas', 'pref_day'] = 'Sun'\n",
    "#df_user.loc['Winch'].at['Col', 'b-e'] = 0.7\n",
    "#df_user\n",
    "#df_user.loc['Pilot', 'max'] = 5.0\n",
    "\n",
    "df_user = set_config(df_user)\n",
    "df_user"
   ]
  },
  {
   "cell_type": "code",
   "execution_count": null,
   "id": "7ad125f1",
   "metadata": {},
   "outputs": [],
   "source": [
    "# add predefined services to schedule df\n",
    "for df_fct in df_services_in:\n",
    "    print(df_fct.columns[0])\n",
    "    display(df_fct)\n",
    "    df_schedule[df_fct.columns[0]] = df_fct\n",
    "\n",
    "\n",
    "#df_schedule['Teacher'] = df_service_in['Teacher'] # set predefined teacher function to schedule\n",
    "#df_schedule"
   ]
  },
  {
   "cell_type": "code",
   "execution_count": null,
   "id": "8cd616c4",
   "metadata": {},
   "outputs": [],
   "source": [
    "# analyse data frame\n",
    "func_analyse = 'Pilot'\n",
    "df_analyse = pd.DataFrame(data=0.0, columns=df_user.loc[func_analyse]['score'].index, index=list(range(0, df_schedule.shape[0])))#index=df_schedule.index)\n",
    "#df_analyse"
   ]
  },
  {
   "cell_type": "code",
   "execution_count": null,
   "id": "9b971909",
   "metadata": {},
   "outputs": [],
   "source": [
    "df_schedule"
   ]
  },
  {
   "cell_type": "code",
   "execution_count": null,
   "id": "afb285ff",
   "metadata": {},
   "outputs": [],
   "source": [
    "# fill schedule\n",
    "# function: holidays, double, max, b-e\n",
    "# Teacher can be skipped, hard coded\n",
    "# ToDo: weight, pref_day\n",
    "day = 0\n",
    "last_idx = ''\n",
    "predef2date = pd.to_datetime('04.05.2025', dayfirst=True) # date to wich the schedule is predefined from a e. g. first run\n",
    "pilot_last_date = pd.to_datetime('31.08.2025', dayfirst=True)\n",
    "\n",
    "# go through each day / row\n",
    "# index is date\n",
    "for idx, row in df_schedule.iterrows():\n",
    "    \n",
    "    day = day + 1\n",
    "    print('DEBUG: (1. loop: day) {} {} | day = {}'.format(df_schedule.iloc[day-1][0], idx, day))\n",
    "    if day >= 2:\n",
    "        print('DEBUG: day before {} was {}'.format(df_schedule.iloc[day-1][0], df_schedule.iloc[day-2][0]))\n",
    "\n",
    "    # go through functions\n",
    "    for function in df_user.index.levels[0]:\n",
    "        print('DEBUG: (2. loop: function)', function)\n",
    "        \n",
    "        current_date = pd.to_datetime(idx, dayfirst=True) # set current date \n",
    "        \n",
    "        # predefined date, file from here (if available)\n",
    "        if current_date <= predef2date:\n",
    "            print('DEBUG: predefined schedule till: {} (current date = {})'.format(predef2date.date(), current_date.date()))\n",
    "            continue\n",
    "        \n",
    "        # pilot end date, stop filling from here\n",
    "        if current_date > pilot_last_date:\n",
    "            print('DEBUG: pilot schedule ended from here: {} (current date = {})'.format(pilot_last_date.date(), current_date.date()))\n",
    "            if 'Pilot' in function: \n",
    "                continue\n",
    "        \n",
    "        if 'Teacher' in function: # compleate season: schedule for function Teacher is predefined\n",
    "            continue\n",
    "\n",
    "        # get user list with lowest score first \n",
    "        for name in df_user.loc[function].sort_values('score').index:\n",
    "            print('DEBUG: criteria lowest score (3. loop: name)', name)\n",
    "            \n",
    "            increment = 1.0\n",
    "            \n",
    "            # check if vacations information is available and if user on vacation\n",
    "            if ('Vacation', name) in df_schedule.columns and row[('Vacation', name)] >= 0.0: # 1 => vacation = True\n",
    "                print('INFO: {}: User {} for function {} is on vacation.'.format(idx, name, function))\n",
    "            else:\n",
    "                # check double service\n",
    "                if name in df_schedule.loc[idx].values:\n",
    "                    print(name, ' in', df_schedule.loc[idx].values)\n",
    "                    print('INFO: {}: User {} for function {} is already in service.'.format(idx, name, function))\n",
    "                else:\n",
    "                    # check if day is preferred day\n",
    "                    if df_user.loc[function].at[name, 'pref_day'] is not None:\n",
    "                        if df_schedule.loc[idx, 'Weekday'] != df_user.loc[function].at[name, 'pref_day']:\n",
    "                            print('INFO: continue for {}'.format(name))\n",
    "                            continue\n",
    "                    \n",
    "                    # check if user is willing to do a complete weekend (Sat & Sun)\n",
    "                    if not df_user.loc[function].at[name, 'comp_we'] and df_schedule.iloc[day-2][0] == 'Sat':\n",
    "                        if df_schedule.iloc[day-2][function] == name:\n",
    "                            print('INFO: continue for {}'.format(name))\n",
    "                            continue\n",
    "                    \n",
    "                    # check max definition per user and modify score\n",
    "                    if df_user.loc[function].at[name, 'max'] is not None:\n",
    "                        if df_user.loc[function].at[name, 'max'] <= df_user.loc[function].at[name, 'stat']:\n",
    "                            if df_user.loc[function].at[name, 'max'] == 0.0 or df_user.loc['Pilot', 'max'].sum() > df_user.loc['Pilot', 'stat'].sum():\n",
    "                                print('INFO: continue for {}'.format(name))\n",
    "                                continue                                \n",
    "                            else:\n",
    "                                df_schedule.at[idx, function] = '' # empty entry\n",
    "                                print('INFO: Max number {} reached for user {} at function {}'.format(df_user.loc[function].at[name, 'stat'], name, function))\n",
    "                                print('DEBUG: (max num break)')\n",
    "                                break\n",
    "                        else:\n",
    "                            print('INFO: User {} for function {} has max = {} definition.'.format(name, function, df_user.loc[function].at[name, 'max']))\n",
    "                            if df_user.loc[function]['max'].isna().sum() < 1:\n",
    "                                pass\n",
    "                            else:\n",
    "                                # ((number of all days - sum of all max days of users) / number of users without max day definition + 1.0) / number of max day defintion of user\n",
    "                                increment = ((df_schedule.shape[0] - df_user.loc[function]['max'].sum()) / df_user.loc[function]['max'].isna().sum() + 1.0) / df_user.loc[function].at[name, 'max']\n",
    "                                print('INFO: Increment for user {} modified from 1.0 to {} (max function)'.format(name, increment))\n",
    "                    \n",
    "                    # check b-e (begin-end) definition for unequal distribution of services\n",
    "                    if df_user.loc[function].at[name, 'b-e'] is not None:\n",
    "                        # function input: day, base, max days, option level=1.0\n",
    "                        factor = get_b_e_factor(day-1, df_user.loc[function].at[name, 'b-e'], df_schedule.shape[0], window=0.5)\n",
    "                        if (factor != 1.0):\n",
    "                            increment = increment * factor\n",
    "                            print('INFO: Increment for user {} modified to {} (b-e function, factor = {})'.format(name, increment, factor))\n",
    "\n",
    "                    # set weight factor\n",
    "                    weight = 1.0 / df_user.loc[function].at[name, 'weight']\n",
    "                    increment = increment * weight\n",
    "                    if (weight != 1.0):\n",
    "                        print('INFO: Increment for user {} modified to {} (weight function, factor = {})'.format(name, increment, weight))\n",
    "                    \n",
    "                    # set correction from mean value\n",
    "#                    if df_user.loc[function].shape[0] < (0.5 * day):\n",
    "#                        corr = (df_user.loc[function]['stat'].mean() / df_user.loc[function].at[name, 'stat'])\n",
    "#                        if corr < 1.0:\n",
    "#                            increment = increment * corr\n",
    "#                            print('INFO: Correction factor = {} for user {} at function {}'.format(corr, name, function))#                            print('DEBUG: num users = {} | 2 * day = {}'.format(df_user.loc[function].shape[0], 0.5*day))\n",
    "                    \n",
    "                    # debug analyse\n",
    "                    if function == func_analyse:\n",
    "                        df_analyse.at[day, '{}_inc'.format(name)] = increment\n",
    "                        df_analyse.at[day, name] = df_analyse.at[day, name] + 1\n",
    "                    \n",
    "                    # write data\n",
    "                    df_user.loc[function].at[name, 'score'] = df_user.loc[function].at[name, 'score'] + increment # increment score\n",
    "                    df_user.loc[function].at[name, 'stat'] = df_user.loc[function].at[name, 'stat'] + 1\n",
    "                    print(idx, function, name, '({})'.format(df_user.loc[function].at[name, 'stat']))\n",
    "                    df_schedule.at[idx, function] = name # set user to service at date\n",
    "                    print('DEBUG: (4. break)')\n",
    "                    break\n",
    "    "
   ]
  },
  {
   "cell_type": "markdown",
   "id": "2746d0e1",
   "metadata": {},
   "source": [
    "# Analyse"
   ]
  },
  {
   "cell_type": "code",
   "execution_count": null,
   "id": "decc3bac",
   "metadata": {},
   "outputs": [],
   "source": [
    "#df_analyse['Maier, Christian Johannes_inc'] = None\n",
    "df_analyse[df_user.loc[func_analyse]['score'].index].cumsum().plot(grid=True)\n",
    "df_analyse.fillna(0.0)[['{}_inc'.format(n) for n in df_user.loc[func_analyse]['score'].index]].plot(grid=True)\n",
    "#df_analyse.cumsum().plot(y=['Mas', 'Sand'], grid=True)"
   ]
  },
  {
   "cell_type": "code",
   "execution_count": null,
   "id": "b706bf9a",
   "metadata": {},
   "outputs": [],
   "source": [
    "for func in service_functions:\n",
    "    display(df_schedule[func].value_counts())"
   ]
  },
  {
   "cell_type": "code",
   "execution_count": null,
   "id": "d1159128",
   "metadata": {},
   "outputs": [],
   "source": [
    "try:\n",
    "    df_schedule.to_excel('output.xlsx')\n",
    "    display(df_schedule)\n",
    "\n",
    "except IOError as e:\n",
    "    print(\"An error occurred:\", e)"
   ]
  },
  {
   "cell_type": "code",
   "execution_count": null,
   "id": "adae6a32",
   "metadata": {},
   "outputs": [],
   "source": [
    "export_service_to_csv(df_schedule, *service_functions)"
   ]
  },
  {
   "cell_type": "markdown",
   "id": "9f926ae5",
   "metadata": {},
   "source": [
    "# Testing"
   ]
  },
  {
   "cell_type": "code",
   "execution_count": null,
   "id": "324324b9",
   "metadata": {},
   "outputs": [],
   "source": [
    "#df_schedule.to_csv('output.csv')\n",
    "#df_schedule.to_excel('output.xlsx')"
   ]
  },
  {
   "cell_type": "code",
   "execution_count": null,
   "id": "ea063a96",
   "metadata": {},
   "outputs": [],
   "source": [
    "#df_user_hist = df_schedule[func_analyse].hist(bins=df_user.loc[func_analyse].shape[0], xlabelsize=5)"
   ]
  },
  {
   "cell_type": "code",
   "execution_count": null,
   "id": "ca0b1b62",
   "metadata": {},
   "outputs": [],
   "source": []
  },
  {
   "cell_type": "code",
   "execution_count": null,
   "id": "7c6b0f3e",
   "metadata": {},
   "outputs": [],
   "source": [
    "for i in df_analyse.index:\n",
    "    print(df_analyse.iloc[i])"
   ]
  },
  {
   "cell_type": "code",
   "execution_count": null,
   "id": "d22d7105",
   "metadata": {},
   "outputs": [],
   "source": []
  },
  {
   "cell_type": "code",
   "execution_count": null,
   "id": "195d383c",
   "metadata": {},
   "outputs": [],
   "source": []
  },
  {
   "cell_type": "code",
   "execution_count": null,
   "id": "fcc4e4dd",
   "metadata": {},
   "outputs": [],
   "source": []
  },
  {
   "cell_type": "code",
   "execution_count": null,
   "id": "1b7ddf40",
   "metadata": {
    "scrolled": true
   },
   "outputs": [],
   "source": []
  },
  {
   "cell_type": "code",
   "execution_count": null,
   "id": "355e87c3",
   "metadata": {},
   "outputs": [],
   "source": []
  },
  {
   "cell_type": "code",
   "execution_count": null,
   "id": "1c975ed0",
   "metadata": {},
   "outputs": [],
   "source": []
  },
  {
   "cell_type": "code",
   "execution_count": null,
   "id": "14400153",
   "metadata": {},
   "outputs": [],
   "source": []
  },
  {
   "cell_type": "code",
   "execution_count": null,
   "id": "57dcffe3",
   "metadata": {},
   "outputs": [],
   "source": []
  },
  {
   "cell_type": "code",
   "execution_count": null,
   "id": "293ed1fe",
   "metadata": {},
   "outputs": [],
   "source": []
  }
 ],
 "metadata": {
  "kernelspec": {
   "display_name": "Python [conda env:.conda-py38_geo]",
   "language": "python",
   "name": "conda-env-.conda-py38_geo-py"
  },
  "language_info": {
   "codemirror_mode": {
    "name": "ipython",
    "version": 3
   },
   "file_extension": ".py",
   "mimetype": "text/x-python",
   "name": "python",
   "nbconvert_exporter": "python",
   "pygments_lexer": "ipython3",
   "version": "3.8.18"
  }
 },
 "nbformat": 4,
 "nbformat_minor": 5
}
